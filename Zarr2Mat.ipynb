{
 "cells": [
  {
   "cell_type": "code",
   "execution_count": 1,
   "metadata": {},
   "outputs": [],
   "source": [
    "\n",
    "import xarray as xr\n",
    "from scipy.io import savemat\n",
    "\n",
    "import os\n"
   ]
  },
  {
   "cell_type": "markdown",
   "metadata": {},
   "source": [
    "To convert all files in a folder:"
   ]
  },
  {
   "cell_type": "code",
   "execution_count": null,
   "metadata": {},
   "outputs": [],
   "source": [
    "dn = '/ocean/gwatts/home/analysis-grace/runs/'\n",
    "# fn = 'passive_particles_for_20-1-2025_run_7_days_130m.zarr'\n",
    "\n",
    "\n",
    "fn = os.listdir(dn+'yearly/')  # Includes files and folders\n",
    "# # Optional: Only include files (not subfolders)\n",
    "# fn = [f for f in fn if os.path.isfile(os.path.join(dn, f))]\n",
    "\n",
    "print(fn)\n",
    "\n",
    "for ii in range(len(fn)):\n",
    "    ds = xr.open_dataset(dn+'yearly/'+fn[ii])\n",
    "    # df = data.to_dataframe().reset_index()\n",
    "\n",
    "    df = {var: ds[var].values for var in ds.data_vars}\n",
    "    # savemat(fn+\".mat\", {\"data\": df.to_dict(\"list\")})\n",
    "\n",
    "    savemat(dn+'matfiles/yearly/'+fn[ii]+\".mat\", df)\n",
    "\n",
    "# nobs = data.obs.shape[0]\n",
    "# ntraj = data.trajectory.shape[0]\n",
    "# print (nobs, ntraj)\n",
    "# pring(df)"
   ]
  },
  {
   "cell_type": "markdown",
   "metadata": {},
   "source": [
    "To convert one file:"
   ]
  },
  {
   "cell_type": "code",
   "execution_count": 9,
   "metadata": {},
   "outputs": [
    {
     "name": "stdout",
     "output_type": "stream",
     "text": [
      "passive_particles_for_1-1-2024_run_46_days_160m.zarr\n"
     ]
    }
   ],
   "source": [
    "dn = '/ocean/gwatts/home/analysis-grace/runs/'\n",
    "# fn = 'passive_particles_for_20-1-2025_run_7_days_130m.zarr'\n",
    "\n",
    "\n",
    "# fn = 'passive_particles_for_1-2-2024_run_44_days_160m.zarr'\n",
    "fn = 'passive_particles_for_1-1-2024_run_46_days_160m.zarr'\n",
    "# # Optional: Only include files (not subfolders)\n",
    "# fn = [f for f in fn if os.path.isfile(os.path.join(dn, f))]\n",
    "\n",
    "print(fn)\n",
    "\n",
    "ds = xr.open_dataset(dn+'hourlyhourly/'+fn)\n",
    "df = {var: ds[var].values for var in ds.data_vars}\n",
    "savemat(dn+'matfiles/hourly/'+fn+\".mat\", df)\n"
   ]
  }
 ],
 "metadata": {
  "kernelspec": {
   "display_name": "analysis-grace",
   "language": "python",
   "name": "python3"
  },
  "language_info": {
   "codemirror_mode": {
    "name": "ipython",
    "version": 3
   },
   "file_extension": ".py",
   "mimetype": "text/x-python",
   "name": "python",
   "nbconvert_exporter": "python",
   "pygments_lexer": "ipython3",
   "version": "3.13.3"
  }
 },
 "nbformat": 4,
 "nbformat_minor": 2
}
